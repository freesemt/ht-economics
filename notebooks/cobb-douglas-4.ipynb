{
 "cells": [
  {
   "cell_type": "code",
   "execution_count": 1,
   "id": "a93b5964",
   "metadata": {},
   "outputs": [
    {
     "name": "stdout",
     "output_type": "stream",
     "text": [
      "   Year  Output_Growth  Capital_Growth  Labor_Growth  TFP_Growth\n",
      "0  2010       0.000000        0.000000      0.000000    0.000000\n",
      "1  2011       0.050000        0.040000      0.020000    0.024000\n",
      "2  2012       0.047619        0.038462      0.019608    0.022355\n",
      "3  2013       0.090909        0.074074      0.038462    0.041764\n"
     ]
    }
   ],
   "source": [
    "import numpy as np\n",
    "import pandas as pd\n",
    "\n",
    "def compute_growth_rate(series):\n",
    "    '''\n",
    "    Compute the growth rate of a time series.\n",
    "    :param series: A pandas Series with economic data over time.\n",
    "    :return: Growth rate of the series.\n",
    "    '''\n",
    "    return series.pct_change().fillna(0)\n",
    "\n",
    "def compute_tfp_growth(output_growth, capital_growth, labor_growth, alpha):\n",
    "    '''\n",
    "    Calculate the growth rate of Total Factor Productivity (TFP).\n",
    "    :param output_growth: Growth rate of output.\n",
    "    :param capital_growth: Growth rate of capital.\n",
    "    :param labor_growth: Growth rate of labor.\n",
    "    :param alpha: Output elasticity of capital.\n",
    "    :return: Growth rate of TFP.\n",
    "    '''\n",
    "    return output_growth - alpha * capital_growth - (1 - alpha) * labor_growth\n",
    " \n",
    "#Example data (Time series data of output, capital and labor)\n",
    "data = {\n",
    "    'Year': [2010, 2011, 2012, 2013],\n",
    "    'Output': [100, 105, 110, 120],\n",
    "    'Capital': [50, 52, 54, 58],\n",
    "    'Labor': [100, 102, 104, 108]\n",
    "}\n",
    "df = pd.DataFrame(data)\n",
    "\n",
    "#Parameters\n",
    "alpha = 0.3\n",
    "\n",
    "#Calculate growth rates\n",
    "\n",
    "df['Output_Growth'] = compute_growth_rate(df['Output'])\n",
    "df['Capital_Growth'] = compute_growth_rate(df['Capital'])\n",
    "df['Labor_Growth'] = compute_growth_rate(df['Labor'])\n",
    "\n",
    "#Calculate TFP growth\n",
    "df['TFP_Growth'] = compute_tfp_growth(\n",
    "    df['Output_Growth'],\n",
    "    df['Capital_Growth'],\n",
    "    df['Labor_Growth'],\n",
    "    alpha\n",
    ")\n",
    "\n",
    "print(df[['Year', 'Output_Growth', 'Capital_Growth', 'Labor_Growth', 'TFP_Growth']]) "
   ]
  }
 ],
 "metadata": {
  "kernelspec": {
   "display_name": "Python 3",
   "language": "python",
   "name": "python3"
  },
  "language_info": {
   "codemirror_mode": {
    "name": "ipython",
    "version": 3
   },
   "file_extension": ".py",
   "mimetype": "text/x-python",
   "name": "python",
   "nbconvert_exporter": "python",
   "pygments_lexer": "ipython3",
   "version": "3.12.9"
  }
 },
 "nbformat": 4,
 "nbformat_minor": 5
}
